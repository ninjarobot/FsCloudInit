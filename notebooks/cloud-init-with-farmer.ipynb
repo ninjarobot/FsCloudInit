{
 "cells": [
  {
   "cell_type": "markdown",
   "metadata": {},
   "source": [
    "Build and Configure an Azure VM with FsCloudInit and Farmer\n",
    "========\n",
    "\n",
    "Azure Virtual Machines start with just a base operating system image, but you will typically need additional packages installed and configured. Cloud-init is a standard technology used across most public clouds to initialize VMs, and even if you don't use cloud-init directly, it is used by the cloud provider to create initial users and add authorized SSH public keys. You can also define your own cloud-init configuration to add additional package sources and packages, create files, and run bootstrapping commands to get your machine fully initialized.\n",
    "\n",
    "[FsCloudInit](https://github.com/ninjarobot/FsCloudInit) is a library to help build cloud-init configuration files using a Domain Specific Language (DSL) that helps with writing the specifications and preventing common errors. [Farmer](https://github.com/CompositionalIT/farmer) is another library for authoring Azure Resource Manager (ARM) deployment templates. These two libraries compose well together to enable you to write an ARM deployment specification to deploy a VM that will run a cloud-init configuration to configure it as needed."
   ]
  },
  {
   "cell_type": "markdown",
   "metadata": {},
   "source": [
    "We will build a cloud-init spec and an ARM template using FsCloudInit and Farmer. This will be used to provision a virtual machine, install the .NET SDK, generate an ASP.NET Core MVC app, enable it to run as a service, and start it.\n",
    "\n",
    "First, the two packages are needed and we will open some namespaces that we need."
   ]
  },
  {
   "cell_type": "code",
   "execution_count": null,
   "metadata": {
    "dotnet_interactive": {
     "language": "fsharp"
    },
    "vscode": {
     "languageId": "dotnet-interactive.fsharp"
    }
   },
   "outputs": [
    {
     "data": {
      "text/html": [
       "<div><div></div><div></div><div><strong>Installed Packages</strong><ul><li><span>Farmer, 1.6.31</span></li><li><span>FsCloudInit, 1.0.8</span></li></ul></div></div>"
      ]
     },
     "metadata": {},
     "output_type": "display_data"
    }
   ],
   "source": [
    "#r \"nuget:FsCloudInit\"\n",
    "#r \"nuget:Farmer\"\n",
    "\n",
    "open System\n",
    "open System.IO\n",
    "open System.Net.Http\n",
    "open FsCloudInit\n",
    "open FsCloudInit.Builders\n",
    "open Farmer\n",
    "open Farmer.Builders"
   ]
  },
  {
   "cell_type": "markdown",
   "metadata": {},
   "source": [
    "Two files are needed on the VM:\n",
    "\n",
    "* buildapp.sh - normally we will be deploying a package from our CI system, but for the purposes of this demo, we'll generate an application using a `dotnet new` template.\n",
    "* myapp.service - this is a `systemd` service for our application so it will run on VM startup, will be restarted if it crashes, and allows us to specify the user."
   ]
  },
  {
   "cell_type": "markdown",
   "metadata": {},
   "source": [
    "#### buildapp.sh\n",
    "```bash\n",
    "#!/bin/bash\n",
    "set -eux\n",
    "\n",
    "mkdir -p /home/azureuser/app\n",
    "chown -R azureuser:azureuser /home/azureuser\n",
    "sudo -u azureuser sh -c 'cd /home/azureuser/app && dotnet new mvc'\n",
    "```"
   ]
  },
  {
   "cell_type": "markdown",
   "metadata": {},
   "source": [
    "#### myapp.service\n",
    "```\n",
    "[Unit]\n",
    "Description=My mvc app\n",
    "StartLimitIntervalSec=30s\n",
    "StartLimitBurst=3\n",
    "\n",
    "[Service]\n",
    "ExecStart=/usr/bin/dotnet run --urls http://*:8080 --environment Production\n",
    "User=azureuser\n",
    "WorkingDirectory=/home/azureuser/app\n",
    "Restart=on-failure\n",
    "RestartSec=5s\n",
    "TimeoutSec=100s\n",
    "\n",
    "[Install]\n",
    "WantedBy=multi-user.target\n",
    "```"
   ]
  },
  {
   "cell_type": "markdown",
   "metadata": {},
   "source": [
    "Next, we need to generate our cloud-init configuration file."
   ]
  },
  {
   "cell_type": "code",
   "execution_count": null,
   "metadata": {
    "dotnet_interactive": {
     "language": "fsharp"
    },
    "vscode": {
     "languageId": "dotnet-interactive.fsharp"
    }
   },
   "outputs": [],
   "source": [
    "let userData =\n",
    "    // Get the Microsoft apt package source and published gpg key\n",
    "    let aptSourceValue, gpgKey =\n",
    "        task {\n",
    "            use http = new HttpClient ()\n",
    "            let! aptSourceRes = http.GetAsync \"https://packages.microsoft.com/config/ubuntu/20.04/prod.list\"\n",
    "            let! aptSourceVal = aptSourceRes.Content.ReadAsStringAsync ()\n",
    "            let! gpgKeyRes = http.GetAsync \"https://packages.microsoft.com/keys/microsoft.asc\"\n",
    "            let! gpgKey = gpgKeyRes.Content.ReadAsStringAsync ()\n",
    "            return aptSourceVal, gpgKey\n",
    "        } |> Async.AwaitTask |> Async.RunSynchronously\n",
    "\n",
    "    // Normally we will clone a repo or install a package with our application.\n",
    "    let bootstrapScript = \"/home/azureuser/buildapp.sh\"\n",
    "\n",
    "    // Define the cloud init configuration for the VM\n",
    "    cloudConfig {\n",
    "        add_apt_sources [\n",
    "            aptSource {\n",
    "                name \"microsoft-prod\"\n",
    "                key gpgKey\n",
    "                source aptSourceValue\n",
    "            }\n",
    "        ]\n",
    "        package_update true\n",
    "        add_packages [\n",
    "            Package \"apt-transport-https\"\n",
    "            PackageVersion (PackageName=\"dotnet-sdk-6.0\", PackageVersion=\"6.0.201-1\")\n",
    "        ]\n",
    "        write_files [\n",
    "            writeFile { // Embeds our buildapp.sh script to generate the application.\n",
    "                path bootstrapScript\n",
    "                permissions \"0764\"\n",
    "                content ( \"buildapp.sh\" |> File.ReadAllText )\n",
    "            }\n",
    "            writeFile { // Embeds our systemd service.\n",
    "                path \"/lib/systemd/system/myapp.service\"\n",
    "                content ( \"myapp.service\" |> File.ReadAllText )\n",
    "            }\n",
    "        ]\n",
    "        run_commands [\n",
    "            // Run the bootstrap script\n",
    "            [ bootstrapScript ]\n",
    "            // Enable the 'myapp' systemd service on startup\n",
    "            [ \"systemctl\"; \"enable\"; \"myapp\" ]\n",
    "            // Start the 'myapp' systemd service now (see 'journalctl -f -u myapp' for logs).\n",
    "            [ \"systemctl\"; \"start\"; \"myapp\" ]\n",
    "        ]\n",
    "    }\n",
    "    |> Writer.write"
   ]
  },
  {
   "cell_type": "markdown",
   "metadata": {},
   "source": [
    "### Cloud-init Specification\n",
    "You can see the `userData` contains a valid cloud-init specification. "
   ]
  },
  {
   "cell_type": "code",
   "execution_count": null,
   "metadata": {
    "dotnet_interactive": {
     "language": "fsharp"
    },
    "vscode": {
     "languageId": "dotnet-interactive.fsharp"
    }
   },
   "outputs": [
    {
     "data": {
      "text/plain": [
       "#cloud-config\n",
       "apt:\n",
       "  sources:\n",
       "    microsoft-prod:\n",
       "      key: >\n",
       "        -----BEGIN PGP PUBLIC KEY BLOCK-----\n",
       "\n",
       "        Version: GnuPG v1.4.7 (GNU/Linux)\n",
       "\n",
       "\n",
       "        mQENBFYxWIwBCADAKoZhZlJxGNGWzqV+1OG1xiQeoowKhssGAKvd+buXCGISZJwT\n",
       "\n",
       "        LXZqIcIiLP7pqdcZWtE9bSc7yBY2MalDp9Liu0KekywQ6VVX1T72NPf5Ev6x6DLV\n",
       "\n",
       "        7aVWsCzUAF+eb7DC9fPuFLEdxmOEYoPjzrQ7cCnSV4JQxAqhU4T6OjbvRazGl3ag\n",
       "\n",
       "        OeizPXmRljMtUUttHQZnRhtlzkmwIrUivbfFPD+fEoHJ1+uIdfOzZX8/oKHKLe2j\n",
       "\n",
       "        H632kvsNzJFlROVvGLYAk2WRcLu+RjjggixhwiB+Mu/A8Tf4V6b+YppS44q8EvVr\n",
       "\n",
       "        M+QvY7LNSOffSO6Slsy9oisGTdfE39nC7pVRABEBAAG0N01pY3Jvc29mdCAoUmVs\n",
       "\n",
       "        ZWFzZSBzaWduaW5nKSA8Z3Bnc2VjdXJpdHlAbWljcm9zb2Z0LmNvbT6JATUEEwEC\n",
       "\n",
       "        AB8FAlYxWIwCGwMGCwkIBwMCBBUCCAMDFgIBAh4BAheAAAoJEOs+lK2+EinPGpsH\n",
       "\n",
       "        /32vKy29Hg51H9dfFJMx0/a/F+5vKeCeVqimvyTM04C+XENNuSbYZ3eRPHGHFLqe\n",
       "\n",
       "        MNGxsfb7C7ZxEeW7J/vSzRgHxm7ZvESisUYRFq2sgkJ+HFERNrqfci45bdhmrUsy\n",
       "\n",
       "        7SWw9ybxdFOkuQoyKD3tBmiGfONQMlBaOMWdAsic965rvJsd5zYaZZFI1UwTkFXV\n",
       "\n",
       "        KJt3bp3Ngn1vEYXwijGTa+FXz6GLHueJwF0I7ug34DgUkAFvAs8Hacr2DRYxL5RJ\n",
       "\n",
       "        XdNgj4Jd2/g6T9InmWT0hASljur+dJnzNiNCkbn9KbX7J/qK1IbR8y560yRmFsU+\n",
       "\n",
       "        NdCFTW7wY0Fb1fWJ+/KTsC4=\n",
       "\n",
       "        =J6gs\n",
       "\n",
       "        -----END PGP PUBLIC KEY BLOCK-----\n",
       "      source: >\n",
       "        deb [arch=amd64,armhf,arm64] https://packages.microsoft.com/ubuntu/20.04/prod focal main\n",
       "package_update: true\n",
       "packages:\n",
       "- apt-transport-https\n",
       "- - dotnet-sdk-6.0\n",
       "  - 6.0.201-1\n",
       "runcmd:\n",
       "- - /home/azureuser/buildapp.sh\n",
       "- - systemctl\n",
       "  - enable\n",
       "  - myapp\n",
       "- - systemctl\n",
       "  - start\n",
       "  - myapp\n",
       "write_files:\n",
       "- encoding: b64\n",
       "  content: IyEvYmluL2Jhc2gKc2V0IC1ldXgKCm1rZGlyIC1wIC9ob21lL2F6dXJldXNlci9hcHAKY2hvd24gLVIgYXp1cmV1c2VyOmF6dXJldXNlciAvaG9tZS9henVyZXVzZXIKc3VkbyAtdSBhenVyZXVzZXIgc2ggLWMgJ2NkIC9ob21lL2F6dXJldXNlci9hcHAgJiYgZG90bmV0IG5ldyBtdmMnCg==\n",
       "  path: /home/azureuser/buildapp.sh\n",
       "  permissions: '0764'\n",
       "- encoding: b64\n",
       "  content: W1VuaXRdCkRlc2NyaXB0aW9uPU15IG12YyBhcHAKU3RhcnRMaW1pdEludGVydmFsU2VjPTMwcwpTdGFydExpbWl0QnVyc3Q9MwoKW1NlcnZpY2VdCkV4ZWNTdGFydD0vdXNyL2Jpbi9kb3RuZXQgcnVuIC0tdXJscyBodHRwOi8vKjo4MDgwIC0tZW52aXJvbm1lbnQgUHJvZHVjdGlvbgpVc2VyPWF6dXJldXNlcgpXb3JraW5nRGlyZWN0b3J5PS9ob21lL2F6dXJldXNlci9hcHAKUmVzdGFydD1vbi1mYWlsdXJlClJlc3RhcnRTZWM9NXMKVGltZW91dFNlYz0xMDBzCgpbSW5zdGFsbF0KV2FudGVkQnk9bXVsdGktdXNlci50YXJnZXQK\n",
       "  path: /lib/systemd/system/myapp.service\n"
      ]
     },
     "metadata": {},
     "output_type": "display_data"
    }
   ],
   "source": [
    "userData"
   ]
  },
  {
   "cell_type": "markdown",
   "metadata": {},
   "source": [
    "We will include this `userData` in the VM resource properties in an ARM deployment template so that when Azure provisions the VM, it runs our additional configuration steps."
   ]
  },
  {
   "cell_type": "code",
   "execution_count": null,
   "metadata": {
    "dotnet_interactive": {
     "language": "fsharp"
    },
    "vscode": {
     "languageId": "dotnet-interactive.fsharp"
    }
   },
   "outputs": [],
   "source": [
    "// Instead of using a password, we will provide our public SSH key to enable us to connect to the VM.\n",
    "let mySshPubKey =\n",
    "    [|\n",
    "        Environment.GetFolderPath Environment.SpecialFolder.UserProfile\n",
    "        \".ssh\"\n",
    "        \"id_rsa.pub\"\n",
    "    |]\n",
    "    |> Path.Combine\n",
    "    |> File.ReadAllText\n",
    "\n",
    "// We will use an Ubuntu image since we are using `apt` in our cloud-init configuration.\n",
    "let UbuntuServer_2004LTS = Vm.makeLinuxVm \"0001-com-ubuntu-server-focal\" \"canonical\" \"20_04-lts-gen2\" \n",
    "\n",
    "// Build the deployment template.\n",
    "let vmDeployment =\n",
    "    arm {\n",
    "        location Location.EastUS\n",
    "        add_resources [\n",
    "            vm {\n",
    "                name \"my-app-server\"\n",
    "                username \"azureuser\"\n",
    "                vm_size Vm.Standard_B1ms\n",
    "                operating_system UbuntuServer_2004LTS\n",
    "                diagnostics_support\n",
    "                disable_password_authentication true\n",
    "                // Adds our public key.\n",
    "                add_authorized_key \"/home/azureuser/.ssh/authorized_keys\" mySshPubKey\n",
    "                // Embeds our cloud-init spec as a base64 string in the VM resource.\n",
    "                custom_data userData\n",
    "                // Could use a bigger VM as a spot instance to keep costs down.\n",
    "                // vm_size (Vm.CustomImage \"Standard_D2_v5\")\n",
    "                // spot_instance (Vm.Deallocate, 0.0285M)\n",
    "            }\n",
    "        ]\n",
    "    }"
   ]
  },
  {
   "cell_type": "markdown",
   "metadata": {},
   "source": [
    "### ARM Template\n",
    "View the resulting ARM deployment template."
   ]
  },
  {
   "cell_type": "code",
   "execution_count": null,
   "metadata": {
    "dotnet_interactive": {
     "language": "fsharp"
    },
    "vscode": {
     "languageId": "dotnet-interactive.fsharp"
    }
   },
   "outputs": [],
   "source": [
    "vmDeployment.Template |> Writer.toJson"
   ]
  },
  {
   "cell_type": "markdown",
   "metadata": {},
   "source": [
    "### Summary\n",
    "\n",
    "With FsCloudInit and Farmer, we can use a high-level language to build cloud-init and ARM deployment specifications. As our needs change or complexity grows over time, we are able to continue to generate these specifications reliably. The above specification can be deployed via the Azure Portal, the CLI with `az deployment group create` or with Farmer using `Deploy.execute`. "
   ]
  }
 ],
 "metadata": {
  "interpreter": {
   "hash": "31f2aee4e71d21fbe5cf8b01ff0e069b9275f58929596ceb00d14d90e3e16cd6"
  },
  "kernelspec": {
   "display_name": ".NET (C#)",
   "language": "C#",
   "name": ".net-csharp"
  },
  "language_info": {
   "file_extension": ".cs",
   "mimetype": "text/x-csharp",
   "name": "C#",
   "pygments_lexer": "csharp",
   "version": "9.0"
  }
 },
 "nbformat": 4,
 "nbformat_minor": 2
}
