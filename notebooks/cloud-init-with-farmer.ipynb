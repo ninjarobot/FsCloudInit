{
 "cells": [
  {
   "cell_type": "markdown",
   "metadata": {},
   "source": [
    "Build and Configure an Azure VM with FsCloudInit and Farmer\n",
    "========\n",
    "\n",
    "Azure Virtual Machines start with just a base operating system image, but you will typically need additional packages installed and configured. Cloud-init is a standard technology used across most public clouds to initialize VMs, and even if you don't use cloud-init directly, it is used by the cloud provider to create initial users and add authorized SSH public keys. You can also define your own cloud-init configuration to add additional package sources and packages, create files, and run bootstrapping commands to get your machine fully initialized.\n",
    "\n",
    "[FsCloudInit](https://github.com/ninjarobot/FsCloudInit) is a library to help build cloud-init configuration files using a Domain Specific Language (DSL) that helps with writing the specifications and preventing common errors. [Farmer](https://github.com/CompositionalIT/farmer) is another library for authoring Azure Resource Manager (ARM) deployment templates. These two libraries compose well together to enable you to write an ARM deployment specification to deploy a VM that will run a cloud-init configuration to configure it as needed."
   ]
  },
  {
   "cell_type": "markdown",
   "metadata": {},
   "source": [
    "We will build a cloud-init spec and an ARM template using FsCloudInit and Farmer. This will be used to provision a virtual machine, install the .NET SDK, generate an ASP.NET Core MVC app, enable it to run as a service, and start it.\n",
    "\n",
    "First, the two packages are needed and we will open some namespaces that we need."
   ]
  },
  {
   "cell_type": "code",
   "execution_count": null,
   "metadata": {
    "dotnet_interactive": {
     "language": "fsharp"
    },
    "vscode": {
     "languageId": "dotnet-interactive.fsharp"
    }
   },
   "outputs": [],
   "source": [
    "#r \"nuget:FsCloudInit\"\n",
    "#r \"nuget:Farmer\"\n",
    "\n",
    "open System\n",
    "open System.IO\n",
    "open System.Net.Http\n",
    "open FsCloudInit\n",
    "open FsCloudInit.Builders\n",
    "open Farmer\n",
    "open Farmer.Builders"
   ]
  },
  {
   "cell_type": "markdown",
   "metadata": {},
   "source": [
    "Two files are needed on the VM:\n",
    "\n",
    "* buildapp.sh - normally we will be deploying a package from our CI system, but for the purposes of this demo, we'll generate an application using a `dotnet new` template.\n",
    "* myapp.service - this is a `systemd` service for our application so it will run on VM startup, will be restarted if it crashes, and allows us to specify the user."
   ]
  },
  {
   "cell_type": "markdown",
   "metadata": {},
   "source": [
    "#### buildapp.sh\n",
    "```bash\n",
    "#!/bin/bash\n",
    "set -eux\n",
    "\n",
    "mkdir -p /home/azureuser/app\n",
    "chown -R azureuser:azureuser /home/azureuser\n",
    "sudo -u azureuser sh -c 'cd /home/azureuser/app && dotnet new mvc'\n",
    "```"
   ]
  },
  {
   "cell_type": "markdown",
   "metadata": {},
   "source": [
    "#### myapp.service\n",
    "```\n",
    "[Unit]\n",
    "Description=My mvc app\n",
    "StartLimitIntervalSec=30s\n",
    "StartLimitBurst=3\n",
    "\n",
    "[Service]\n",
    "ExecStart=/usr/bin/dotnet run --urls http://*:8080 --environment Production\n",
    "User=azureuser\n",
    "WorkingDirectory=/home/azureuser/app\n",
    "Restart=on-failure\n",
    "RestartSec=5s\n",
    "TimeoutSec=100s\n",
    "\n",
    "[Install]\n",
    "WantedBy=multi-user.target\n",
    "```"
   ]
  },
  {
   "cell_type": "markdown",
   "metadata": {},
   "source": [
    "Next, we need to generate our cloud-init configuration file."
   ]
  },
  {
   "cell_type": "code",
   "execution_count": null,
   "metadata": {
    "dotnet_interactive": {
     "language": "fsharp"
    },
    "vscode": {
     "languageId": "dotnet-interactive.fsharp"
    }
   },
   "outputs": [],
   "source": [
    "let userData =\n",
    "    // Get the Microsoft apt package source and published gpg key\n",
    "    let aptSourceValue, gpgKey =\n",
    "        task {\n",
    "            use http = new HttpClient ()\n",
    "            let! aptSourceRes = http.GetAsync \"https://packages.microsoft.com/config/ubuntu/20.04/prod.list\"\n",
    "            let! aptSourceVal = aptSourceRes.Content.ReadAsStringAsync ()\n",
    "            let! gpgKeyRes = http.GetAsync \"https://packages.microsoft.com/keys/microsoft.asc\"\n",
    "            let! gpgKey = gpgKeyRes.Content.ReadAsStringAsync ()\n",
    "            return aptSourceVal, gpgKey\n",
    "        } |> Async.AwaitTask |> Async.RunSynchronously\n",
    "\n",
    "    // Normally we will clone a repo or install a package with our application.\n",
    "    let bootstrapScript = \"/home/azureuser/buildapp.sh\"\n",
    "\n",
    "    // Define the cloud init configuration for the VM\n",
    "    cloudConfig {\n",
    "        add_apt_sources [\n",
    "            aptSource {\n",
    "                name \"microsoft-prod\"\n",
    "                key gpgKey\n",
    "                source aptSourceValue\n",
    "            }\n",
    "        ]\n",
    "        package_update true\n",
    "        add_packages [\n",
    "            Package \"apt-transport-https\"\n",
    "            PackageVersion (PackageName=\"dotnet-sdk-6.0\", PackageVersion=\"6.0.201-1\")\n",
    "        ]\n",
    "        write_files [\n",
    "            writeFile { // Embeds our buildapp.sh script to generate the application.\n",
    "                path bootstrapScript\n",
    "                permissions \"0764\"\n",
    "                content ( \"buildapp.sh\" |> File.ReadAllText )\n",
    "            }\n",
    "            writeFile { // Embeds our systemd service.\n",
    "                path \"/lib/systemd/system/myapp.service\"\n",
    "                content ( \"myapp.service\" |> File.ReadAllText )\n",
    "            }\n",
    "        ]\n",
    "        run_commands [\n",
    "            // Run the bootstrap script\n",
    "            [ bootstrapScript ]\n",
    "            // Enable the 'myapp' systemd service on startup\n",
    "            [ \"systemctl\"; \"enable\"; \"myapp\" ]\n",
    "            // Start the 'myapp' systemd service now (see 'journalctl -f -u myapp' for logs).\n",
    "            [ \"systemctl\"; \"start\"; \"myapp\" ]\n",
    "        ]\n",
    "    }\n",
    "    |> Writer.write"
   ]
  },
  {
   "cell_type": "markdown",
   "metadata": {},
   "source": [
    "### Cloud-init Specification\n",
    "You can see the `userData` contains a valid cloud-init specification. "
   ]
  },
  {
   "cell_type": "code",
   "execution_count": null,
   "metadata": {
    "dotnet_interactive": {
     "language": "fsharp"
    },
    "vscode": {
     "languageId": "dotnet-interactive.fsharp"
    }
   },
   "outputs": [],
   "source": [
    "userData"
   ]
  },
  {
   "cell_type": "markdown",
   "metadata": {},
   "source": [
    "We will include this `userData` in the VM resource properties in an ARM deployment template so that when Azure provisions the VM, it runs our additional configuration steps."
   ]
  },
  {
   "cell_type": "code",
   "execution_count": null,
   "metadata": {
    "dotnet_interactive": {
     "language": "fsharp"
    },
    "vscode": {
     "languageId": "dotnet-interactive.fsharp"
    }
   },
   "outputs": [],
   "source": [
    "// Instead of using a password, we will provide our public SSH key to enable us to connect to the VM.\n",
    "let mySshPubKey =\n",
    "    [|\n",
    "        Environment.GetFolderPath Environment.SpecialFolder.UserProfile\n",
    "        \".ssh\"\n",
    "        \"id_rsa.pub\"\n",
    "    |]\n",
    "    |> Path.Combine\n",
    "    |> File.ReadAllText\n",
    "\n",
    "// We will use an Ubuntu image since we are using `apt` in our cloud-init configuration.\n",
    "let UbuntuServer_2004LTS = Vm.makeLinuxVm \"0001-com-ubuntu-server-focal\" \"canonical\" \"20_04-lts-gen2\" \n",
    "\n",
    "// Build the deployment template.\n",
    "let vmDeployment =\n",
    "    arm {\n",
    "        location Location.EastUS\n",
    "        add_resources [\n",
    "            vm {\n",
    "                name \"my-app-server\"\n",
    "                username \"azureuser\"\n",
    "                vm_size Vm.Standard_B1ms\n",
    "                operating_system UbuntuServer_2004LTS\n",
    "                diagnostics_support\n",
    "                disable_password_authentication true\n",
    "                // Adds our public key.\n",
    "                add_authorized_key \"/home/azureuser/.ssh/authorized_keys\" mySshPubKey\n",
    "                // Embeds our cloud-init spec as a base64 string in the VM resource.\n",
    "                custom_data userData\n",
    "                // Could use a bigger VM as a spot instance to keep costs down.\n",
    "                // vm_size (Vm.CustomImage \"Standard_D2_v5\")\n",
    "                // spot_instance (Vm.Deallocate, 0.0285M)\n",
    "            }\n",
    "        ]\n",
    "    }"
   ]
  },
  {
   "cell_type": "markdown",
   "metadata": {},
   "source": [
    "### ARM Template\n",
    "View the resulting ARM deployment template."
   ]
  },
  {
   "cell_type": "code",
   "execution_count": null,
   "metadata": {
    "dotnet_interactive": {
     "language": "fsharp"
    },
    "vscode": {
     "languageId": "dotnet-interactive.fsharp"
    }
   },
   "outputs": [],
   "source": [
    "vmDeployment.Template |> Writer.toJson"
   ]
  },
  {
   "cell_type": "markdown",
   "metadata": {},
   "source": [
    "### Summary\n",
    "\n",
    "With FsCloudInit and Farmer, we can use a high-level language to build cloud-init and ARM deployment specifications. As our needs change or complexity grows over time, we are able to continue to generate these specifications reliably. The above specification can be deployed via the Azure Portal, the CLI with `az deployment group create` or with Farmer using `Deploy.execute`. "
   ]
  }
 ],
 "metadata": {
  "interpreter": {
   "hash": "31f2aee4e71d21fbe5cf8b01ff0e069b9275f58929596ceb00d14d90e3e16cd6"
  },
  "kernelspec": {
   "display_name": ".NET (C#)",
   "language": "C#",
   "name": ".net-csharp"
  },
  "language_info": {
   "file_extension": ".cs",
   "mimetype": "text/x-csharp",
   "name": "C#",
   "pygments_lexer": "csharp",
   "version": "9.0"
  }
 },
 "nbformat": 4,
 "nbformat_minor": 2
}
